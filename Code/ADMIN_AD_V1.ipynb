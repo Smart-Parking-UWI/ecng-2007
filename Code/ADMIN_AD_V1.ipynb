{
 "cells": [
  {
   "cell_type": "code",
   "execution_count": 1,
   "metadata": {},
   "outputs": [
    {
     "name": "stderr",
     "output_type": "stream",
     "text": [
      "Using TensorFlow backend.\n"
     ]
    }
   ],
   "source": [
    "import cv2\n",
    "import matplotlib.pyplot as plt\n",
    "from ParkingAssistUtils import *"
   ]
  },
  {
   "cell_type": "code",
   "execution_count": 2,
   "metadata": {},
   "outputs": [],
   "source": [
    "time = 2\n",
    "frame_rate = 30\n",
    "VID_PATH = \"test_data/testvid1.mp4\"\n",
    "### demo use testvid1 and vid1"
   ]
  },
  {
   "cell_type": "code",
   "execution_count": 7,
   "metadata": {},
   "outputs": [
    {
     "name": "stdout",
     "output_type": "stream",
     "text": [
      "Please Select a region\n",
      "Please Enter the number of car spaces in this region: 8\n",
      "Do you wish to continue?(y/n)\n",
      "Enter your input: n\n"
     ]
    }
   ],
   "source": [
    "### Admin\n",
    "sample_img = sampleImage(VID_PATH)\n",
    "#sample_img[0] = cv2.resize(sample_img[0], (680, 680))\n",
    "car_park_meta = multipleRegionSelector(sample_img[0])\n",
    "regions, capacity = car_park_meta\n"
   ]
  },
  {
   "cell_type": "code",
   "execution_count": 8,
   "metadata": {},
   "outputs": [
    {
     "name": "stdout",
     "output_type": "stream",
     "text": [
      "The number of cars present 1\n",
      "Car park capacity 8\n",
      "Availible spaces 7\n",
      "The number of cars present 1\n",
      "Car park capacity 8\n",
      "Availible spaces 7\n",
      "The number of cars present 1\n",
      "Car park capacity 8\n",
      "Availible spaces 7\n",
      "The number of cars present 1\n",
      "Car park capacity 8\n",
      "Availible spaces 7\n"
     ]
    }
   ],
   "source": [
    "###AD\n",
    "cap = cv2.VideoCapture(VID_PATH)\n",
    "i = 0;\n",
    "while(cap.isOpened()):\n",
    "    ret, frame = cap.read()\n",
    "    if(ret == True):\n",
    "        img = frame\n",
    "        img = cv2.cvtColor(frame, cv2.COLOR_BGR2GRAY)\n",
    "        #img = cv2.resize(img, (680, 680))\n",
    "        i = i+1\n",
    "        ### Assumming a frame rate of 30fps\n",
    "        if(i == (time * frame_rate)):\n",
    "            i = 0\n",
    "            i1 = 0\n",
    "            car_sum = 0\n",
    "            capacity_sum = 0\n",
    "            for r, c in zip(regions, capacity):\n",
    "                car_sum = detect_cars(getCrop(r, frame))+ car_sum\n",
    "                capacity_sum = int(c) + capacity_sum\n",
    "                db_dict.update({\"region{}\".format(i1): 8})\n",
    "                print(\"The number of cars present\", car_sum)\n",
    "                print(\"Car park capacity\",capacity_sum)\n",
    "                print(\"Availible spaces\", int(capacity_sum) - car_sum)\n",
    "                i1 = i1 + 1\n",
    "            with open(\"jquery/test.txt\", 'w') as db:\n",
    "                db.write(str(int(capacity_sum)- car_sum))    \n",
    "            car_sum = 0\n",
    "        ##cv2.imshow(frame, \"output\")\n",
    "        if cv2.waitKey(25) & 0xFF == ord('q'):\n",
    "            break\n",
    "    else:\n",
    "        break\n",
    "        #output.append(img)\n",
    "cap.release()\n",
    "cv2.destroyAllWindows()"
   ]
  },
  {
   "cell_type": "code",
   "execution_count": 14,
   "metadata": {},
   "outputs": [
    {
     "data": {
      "text/plain": [
       "array([[110,  87, 101, ..., 134, 135, 141],\n",
       "       [133,  19,  40, ..., 133, 135, 142],\n",
       "       [121,  26,  37, ..., 128, 130, 141],\n",
       "       ...,\n",
       "       [ 80, 108,  81, ..., 172,  40,  63],\n",
       "       [ 96,  78,  54, ..., 121,  30,  78],\n",
       "       [133,  79,  93, ...,  61,  78,  93]], dtype=uint8)"
      ]
     },
     "execution_count": 14,
     "metadata": {},
     "output_type": "execute_result"
    }
   ],
   "source": [
    "img"
   ]
  },
  {
   "cell_type": "code",
   "execution_count": null,
   "metadata": {},
   "outputs": [],
   "source": []
  }
 ],
 "metadata": {
  "kernelspec": {
   "display_name": "tf_gpu",
   "language": "python",
   "name": "tf_gpu"
  },
  "language_info": {
   "codemirror_mode": {
    "name": "ipython",
    "version": 3
   },
   "file_extension": ".py",
   "mimetype": "text/x-python",
   "name": "python",
   "nbconvert_exporter": "python",
   "pygments_lexer": "ipython3",
   "version": "3.7.3"
  }
 },
 "nbformat": 4,
 "nbformat_minor": 2
}
