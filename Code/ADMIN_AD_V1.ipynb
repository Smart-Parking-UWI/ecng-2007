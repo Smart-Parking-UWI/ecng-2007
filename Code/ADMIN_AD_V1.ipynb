{
 "cells": [
  {
   "cell_type": "code",
   "execution_count": 1,
   "metadata": {},
   "outputs": [
    {
     "name": "stderr",
     "output_type": "stream",
     "text": [
      "Using TensorFlow backend.\n"
     ]
    }
   ],
   "source": [
    "import cv2\n",
    "import matplotlib.pyplot as plt\n",
    "from ParkingAssistUtils import *"
   ]
  },
  {
   "cell_type": "code",
   "execution_count": 2,
   "metadata": {},
   "outputs": [],
   "source": [
    "time = 2 \n",
    "frame_rate = 30\n",
    "VID_PATH = \"test_data/testvid1.mp4\""
   ]
  },
  {
   "cell_type": "code",
   "execution_count": 3,
   "metadata": {},
   "outputs": [
    {
     "name": "stdout",
     "output_type": "stream",
     "text": [
      "Please Select a region\n",
      "Please Enter the number of car spaces in this region: 16\n",
      "Do you wish to continue?(y/n)\n",
      "Enter your input: n\n"
     ]
    }
   ],
   "source": [
    "### Admin\n",
    "sample_img = sampleImage(VID_PATH)\n",
    "car_park_meta = multipleRegionSelector(sample_img[0])\n",
    "regions, capacity = car_park_meta"
   ]
  },
  {
   "cell_type": "code",
   "execution_count": 7,
   "metadata": {},
   "outputs": [
    {
     "name": "stdout",
     "output_type": "stream",
     "text": [
      "The number of cars present 4\n",
      "Car park capacity 16\n",
      "12\n",
      "The number of cars present 2\n",
      "Car park capacity 16\n",
      "14\n",
      "The number of cars present 3\n",
      "Car park capacity 16\n",
      "13\n",
      "The number of cars present 4\n",
      "Car park capacity 16\n",
      "12\n",
      "The number of cars present 4\n",
      "Car park capacity 16\n",
      "12\n",
      "The number of cars present 3\n",
      "Car park capacity 16\n",
      "13\n",
      "The number of cars present 4\n",
      "Car park capacity 16\n",
      "12\n",
      "The number of cars present 3\n",
      "Car park capacity 16\n",
      "13\n",
      "The number of cars present 4\n",
      "Car park capacity 16\n",
      "12\n",
      "The number of cars present 2\n",
      "Car park capacity 16\n",
      "14\n",
      "The number of cars present 3\n",
      "Car park capacity 16\n",
      "13\n",
      "The number of cars present 0\n",
      "Car park capacity 16\n",
      "16\n",
      "The number of cars present 2\n",
      "Car park capacity 16\n",
      "14\n",
      "The number of cars present 0\n",
      "Car park capacity 16\n",
      "16\n",
      "The number of cars present 0\n",
      "Car park capacity 16\n",
      "16\n",
      "The number of cars present 3\n",
      "Car park capacity 16\n",
      "13\n"
     ]
    }
   ],
   "source": [
    "###AD\n",
    "cap = cv2.VideoCapture(VID_PATH)\n",
    "i = 0;\n",
    "while(cap.isOpened()):\n",
    "    ret, frame = cap.read()\n",
    "    if(ret == True):\n",
    "        img = frame\n",
    "        img = cv2.cvtColor(frame, cv2.COLOR_BGR2RGB)\n",
    "        i = i+1\n",
    "        ### Assumming a frame rate of 30fps\n",
    "        if(i == (time * frame_rate)):\n",
    "            i = 0\n",
    "            for r, c in zip(regions, capacity):\n",
    "                num_cars = detect_cars(getCrop(r, frame))\n",
    "                print(\"The number of cars present\", num_cars)\n",
    "                print(\"Car park capacity\",c)\n",
    "                print(int(c) - num_cars)\n",
    "        if cv2.waitKey(25) & 0xFF == ord('q'):\n",
    "            break\n",
    "    else:\n",
    "        break\n",
    "        #output.append(img)\n",
    "cap.release()\n",
    "cv2.destroyAllWindows()"
   ]
  },
  {
   "cell_type": "code",
   "execution_count": null,
   "metadata": {},
   "outputs": [],
   "source": [
    "car_park_meta"
   ]
  },
  {
   "cell_type": "code",
   "execution_count": 6,
   "metadata": {},
   "outputs": [
    {
     "data": {
      "text/plain": [
       "16"
      ]
     },
     "execution_count": 6,
     "metadata": {},
     "output_type": "execute_result"
    }
   ],
   "source": [
    "int(c)"
   ]
  },
  {
   "cell_type": "code",
   "execution_count": null,
   "metadata": {},
   "outputs": [],
   "source": []
  }
 ],
 "metadata": {
  "kernelspec": {
   "display_name": "tf_gpu",
   "language": "python",
   "name": "tf_gpu"
  },
  "language_info": {
   "codemirror_mode": {
    "name": "ipython",
    "version": 3
   },
   "file_extension": ".py",
   "mimetype": "text/x-python",
   "name": "python",
   "nbconvert_exporter": "python",
   "pygments_lexer": "ipython3",
   "version": "3.7.3"
  }
 },
 "nbformat": 4,
 "nbformat_minor": 2
}
